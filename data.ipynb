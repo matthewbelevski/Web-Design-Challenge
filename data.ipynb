{
 "metadata": {
  "language_info": {
   "codemirror_mode": {
    "name": "ipython",
    "version": 3
   },
   "file_extension": ".py",
   "mimetype": "text/x-python",
   "name": "python",
   "nbconvert_exporter": "python",
   "pygments_lexer": "ipython3",
   "version": "3.6.10-final"
  },
  "orig_nbformat": 2,
  "kernelspec": {
   "name": "python3",
   "display_name": "Python 3"
  }
 },
 "nbformat": 4,
 "nbformat_minor": 2,
 "cells": [
  {
   "cell_type": "code",
   "execution_count": 1,
   "metadata": {},
   "outputs": [],
   "source": [
    "import pandas as pd"
   ]
  },
  {
   "cell_type": "code",
   "execution_count": 7,
   "metadata": {},
   "outputs": [
    {
     "output_type": "execute_result",
     "data": {
      "text/plain": [
       "   Unnamed: 0    City Name    Lat    Long  Max Temp  Humidity  Cloudiness  \\\n",
       "0           0       Lumeje -11.55   20.78     70.30      66.0         0.0   \n",
       "1           1      Sawakin  19.11   37.33     86.18      62.0         0.0   \n",
       "2           2      Rikitea -23.12 -134.97     73.13      79.0         3.0   \n",
       "3           3       Bethel  41.37  -73.41     46.99      93.0         1.0   \n",
       "4           4  Yellowknife  62.46 -114.35     41.00      93.0        40.0   \n",
       "\n",
       "   Wind Speed Country          Date  \n",
       "0        6.76      AO  1.601700e+09  \n",
       "1        4.54      SD  1.601700e+09  \n",
       "2       15.64      PF  1.601700e+09  \n",
       "3        4.70      US  1.601700e+09  \n",
       "4        5.82      CA  1.601700e+09  "
      ],
      "text/html": "<div>\n<style scoped>\n    .dataframe tbody tr th:only-of-type {\n        vertical-align: middle;\n    }\n\n    .dataframe tbody tr th {\n        vertical-align: top;\n    }\n\n    .dataframe thead th {\n        text-align: right;\n    }\n</style>\n<table border=\"1\" class=\"dataframe\">\n  <thead>\n    <tr style=\"text-align: right;\">\n      <th></th>\n      <th>Unnamed: 0</th>\n      <th>City Name</th>\n      <th>Lat</th>\n      <th>Long</th>\n      <th>Max Temp</th>\n      <th>Humidity</th>\n      <th>Cloudiness</th>\n      <th>Wind Speed</th>\n      <th>Country</th>\n      <th>Date</th>\n    </tr>\n  </thead>\n  <tbody>\n    <tr>\n      <th>0</th>\n      <td>0</td>\n      <td>Lumeje</td>\n      <td>-11.55</td>\n      <td>20.78</td>\n      <td>70.30</td>\n      <td>66.0</td>\n      <td>0.0</td>\n      <td>6.76</td>\n      <td>AO</td>\n      <td>1.601700e+09</td>\n    </tr>\n    <tr>\n      <th>1</th>\n      <td>1</td>\n      <td>Sawakin</td>\n      <td>19.11</td>\n      <td>37.33</td>\n      <td>86.18</td>\n      <td>62.0</td>\n      <td>0.0</td>\n      <td>4.54</td>\n      <td>SD</td>\n      <td>1.601700e+09</td>\n    </tr>\n    <tr>\n      <th>2</th>\n      <td>2</td>\n      <td>Rikitea</td>\n      <td>-23.12</td>\n      <td>-134.97</td>\n      <td>73.13</td>\n      <td>79.0</td>\n      <td>3.0</td>\n      <td>15.64</td>\n      <td>PF</td>\n      <td>1.601700e+09</td>\n    </tr>\n    <tr>\n      <th>3</th>\n      <td>3</td>\n      <td>Bethel</td>\n      <td>41.37</td>\n      <td>-73.41</td>\n      <td>46.99</td>\n      <td>93.0</td>\n      <td>1.0</td>\n      <td>4.70</td>\n      <td>US</td>\n      <td>1.601700e+09</td>\n    </tr>\n    <tr>\n      <th>4</th>\n      <td>4</td>\n      <td>Yellowknife</td>\n      <td>62.46</td>\n      <td>-114.35</td>\n      <td>41.00</td>\n      <td>93.0</td>\n      <td>40.0</td>\n      <td>5.82</td>\n      <td>CA</td>\n      <td>1.601700e+09</td>\n    </tr>\n  </tbody>\n</table>\n</div>"
     },
     "metadata": {},
     "execution_count": 7
    }
   ],
   "source": [
    "#imports csv and converts to dataframe\n",
    "df = pd.read_csv(\"Resources/city_weather.csv\")\n",
    "df.head()"
   ]
  },
  {
   "cell_type": "code",
   "execution_count": 9,
   "metadata": {},
   "outputs": [
    {
     "output_type": "execute_result",
     "data": {
      "text/plain": [
       "Index(['Unnamed: 0', 'City Name', 'Lat', 'Long', 'Max Temp', 'Humidity',\n",
       "       'Cloudiness', 'Wind Speed', 'Country', 'Date'],\n",
       "      dtype='object')"
      ]
     },
     "metadata": {},
     "execution_count": 9
    }
   ],
   "source": [
    "#check the column names\n",
    "df.columns"
   ]
  },
  {
   "cell_type": "code",
   "execution_count": 10,
   "metadata": {},
   "outputs": [],
   "source": [
    "#drop the Unamed:0 column\n",
    "df.drop(columns = [\"Unnamed: 0\"], inplace = True)"
   ]
  },
  {
   "cell_type": "code",
   "execution_count": 11,
   "metadata": {},
   "outputs": [],
   "source": [
    "#convert dataframe to HTML and save \n",
    "df.to_html('Assets/table.html')"
   ]
  },
  {
   "cell_type": "code",
   "execution_count": 12,
   "metadata": {},
   "outputs": [
    {
     "output_type": "execute_result",
     "data": {
      "text/plain": [
       "     City Name    Lat    Long  Max Temp  Humidity  Cloudiness  Wind Speed  \\\n",
       "0       Lumeje -11.55   20.78     70.30      66.0         0.0        6.76   \n",
       "1      Sawakin  19.11   37.33     86.18      62.0         0.0        4.54   \n",
       "2      Rikitea -23.12 -134.97     73.13      79.0         3.0       15.64   \n",
       "3       Bethel  41.37  -73.41     46.99      93.0         1.0        4.70   \n",
       "4  Yellowknife  62.46 -114.35     41.00      93.0        40.0        5.82   \n",
       "\n",
       "  Country          Date  \n",
       "0      AO  1.601700e+09  \n",
       "1      SD  1.601700e+09  \n",
       "2      PF  1.601700e+09  \n",
       "3      US  1.601700e+09  \n",
       "4      CA  1.601700e+09  "
      ],
      "text/html": "<div>\n<style scoped>\n    .dataframe tbody tr th:only-of-type {\n        vertical-align: middle;\n    }\n\n    .dataframe tbody tr th {\n        vertical-align: top;\n    }\n\n    .dataframe thead th {\n        text-align: right;\n    }\n</style>\n<table border=\"1\" class=\"dataframe\">\n  <thead>\n    <tr style=\"text-align: right;\">\n      <th></th>\n      <th>City Name</th>\n      <th>Lat</th>\n      <th>Long</th>\n      <th>Max Temp</th>\n      <th>Humidity</th>\n      <th>Cloudiness</th>\n      <th>Wind Speed</th>\n      <th>Country</th>\n      <th>Date</th>\n    </tr>\n  </thead>\n  <tbody>\n    <tr>\n      <th>0</th>\n      <td>Lumeje</td>\n      <td>-11.55</td>\n      <td>20.78</td>\n      <td>70.30</td>\n      <td>66.0</td>\n      <td>0.0</td>\n      <td>6.76</td>\n      <td>AO</td>\n      <td>1.601700e+09</td>\n    </tr>\n    <tr>\n      <th>1</th>\n      <td>Sawakin</td>\n      <td>19.11</td>\n      <td>37.33</td>\n      <td>86.18</td>\n      <td>62.0</td>\n      <td>0.0</td>\n      <td>4.54</td>\n      <td>SD</td>\n      <td>1.601700e+09</td>\n    </tr>\n    <tr>\n      <th>2</th>\n      <td>Rikitea</td>\n      <td>-23.12</td>\n      <td>-134.97</td>\n      <td>73.13</td>\n      <td>79.0</td>\n      <td>3.0</td>\n      <td>15.64</td>\n      <td>PF</td>\n      <td>1.601700e+09</td>\n    </tr>\n    <tr>\n      <th>3</th>\n      <td>Bethel</td>\n      <td>41.37</td>\n      <td>-73.41</td>\n      <td>46.99</td>\n      <td>93.0</td>\n      <td>1.0</td>\n      <td>4.70</td>\n      <td>US</td>\n      <td>1.601700e+09</td>\n    </tr>\n    <tr>\n      <th>4</th>\n      <td>Yellowknife</td>\n      <td>62.46</td>\n      <td>-114.35</td>\n      <td>41.00</td>\n      <td>93.0</td>\n      <td>40.0</td>\n      <td>5.82</td>\n      <td>CA</td>\n      <td>1.601700e+09</td>\n    </tr>\n  </tbody>\n</table>\n</div>"
     },
     "metadata": {},
     "execution_count": 12
    }
   ],
   "source": [
    "df.head()"
   ]
  },
  {
   "cell_type": "code",
   "execution_count": null,
   "metadata": {},
   "outputs": [],
   "source": []
  }
 ]
}